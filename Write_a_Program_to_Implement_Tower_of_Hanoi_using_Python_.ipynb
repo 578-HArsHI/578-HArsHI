{
 "cells": [
  {
   "cell_type": "markdown",
   "metadata": {
    "id": "KnbpyC-fn09d"
   },
   "source": [
    "\n",
    "\n",
    "Tower of Hanoi is a mathematical puzzle where we have three rods and n disks. The objective of the puzzle is to move the entire stack to another rod, obeying the following simple rules: \n",
    "\n",
    "\n",
    "1) Only one disk can be moved at a time. \n",
    "\n",
    "\n",
    "2) Each move consists of taking the upper disk from one of the stacks and placing it on top of another stack i.e. a disk can only be moved if it is the uppermost disk on a stack. \n",
    "\n",
    "\n",
    "3) No disk may be placed on top of a smaller disk.\n",
    "Note: Transferring the top n-1 disks from source rod to Auxiliary rod can again be thought of as a fresh problem and can be solved in the same manner.\n",
    " \n",
    "\n",
    "\n"
   ]
  },
  {
   "cell_type": "code",
   "execution_count": 23,
   "metadata": {
    "colab": {
     "base_uri": "https://localhost:8080/"
    },
    "id": "xfc06Gs_nLAV",
    "outputId": "ab7a53c0-e95e-471d-a4d4-0e697fb8c422"
   },
   "outputs": [
    {
     "name": "stdout",
     "output_type": "stream",
     "text": [
      "Enter number of Disks:3\n",
      "1  Move disk 1 from source A to destination B\n",
      "2  Move disk 2 from source A to destination C\n",
      "3  Move disk 1 from source B to destination C\n",
      "4  Move disk 3 from source A to destination B\n",
      "5  Move disk 1 from source C to destination A\n",
      "6  Move disk 2 from source C to destination B\n",
      "7  Move disk 1 from source A to destination B\n"
     ]
    }
   ],
   "source": [
    "# Recursive Python function to solve the tower of hanoi\n",
    "\n",
    "def TowerOfHanoi(n , source, destination, auxiliary):\n",
    "\tglobal count    \n",
    "\tif n==1:\n",
    "\t\tcount = count + 1\n",
    "\t\tprint(count,\" Move disk 1 from source\",source,\"to destination\",destination)\n",
    "\t\treturn    \n",
    "\tTowerOfHanoi(n-1, source, auxiliary, destination)\n",
    "\tcount = count + 1\n",
    "\tprint(count,\" Move disk\",n,\"from source\",source,\"to destination\",destination) \n",
    "\tTowerOfHanoi(n-1, auxiliary, destination, source)\n",
    "\t\t\n",
    "# Driver code\n",
    "count = 0\n",
    "n = int(input(\"Enter number of Disks:\"))\n",
    "TowerOfHanoi(n,'A','B','C')\n",
    "\n",
    "# A, C, B are the name of rods\n",
    "\n",
    "# Contributed By Dilip Jain\n"
   ]
  },
  {
   "cell_type": "code",
   "execution_count": null,
   "metadata": {
    "id": "QPETQda5nLwd"
   },
   "outputs": [],
   "source": []
  },
  {
   "cell_type": "code",
   "execution_count": null,
   "metadata": {
    "id": "fKxkiAz6nL0M"
   },
   "outputs": [],
   "source": []
  },
  {
   "cell_type": "code",
   "execution_count": null,
   "metadata": {
    "colab": {
     "base_uri": "https://localhost:8080/"
    },
    "id": "FGijSbRNmlVn",
    "outputId": "87c401c4-bb4a-464d-d7c9-56d974aaf636"
   },
   "outputs": [
    {
     "name": "stdout",
     "output_type": "stream",
     "text": [
      "Enter number of Disks:3\n"
     ]
    }
   ],
   "source": [
    "def TowerOfHanoi(n , source, destination, auxiliary): \n",
    "    if n==1: \n",
    "        print (\"Move disk 1 from source\",source,\"to destination\",destination) \n",
    "        return\n",
    "    TowerOfHanoi(n-1, source, auxiliary, destination) \n",
    "    print (\"Move disk\",n,\"from source\",source,\"to destination\",destination) \n",
    "    TowerOfHanoi(n-1, auxiliary, destination, source) \n",
    "n = int(input(\"Enter number of Disks:\"))"
   ]
  },
  {
   "cell_type": "code",
   "execution_count": null,
   "metadata": {
    "colab": {
     "base_uri": "https://localhost:8080/"
    },
    "id": "kdY0nSBxok82",
    "outputId": "baf047f6-0ecb-47dc-ed1b-dbb22072a976"
   },
   "outputs": [
    {
     "name": "stdout",
     "output_type": "stream",
     "text": [
      "Move disk 1 from source A to destination B\n",
      "Move disk 2 from source A to destination C\n",
      "Move disk 1 from source B to destination C\n",
      "Move disk 3 from source A to destination B\n",
      "Move disk 1 from source C to destination A\n",
      "Move disk 2 from source C to destination B\n",
      "Move disk 1 from source A to destination B\n"
     ]
    }
   ],
   "source": [
    "TowerOfHanoi(n,'A','B','C')"
   ]
  },
  {
   "cell_type": "code",
   "execution_count": null,
   "metadata": {
    "id": "zhipOSjcpK5v"
   },
   "outputs": [],
   "source": []
  },
  {
   "cell_type": "code",
   "execution_count": null,
   "metadata": {
    "colab": {
     "base_uri": "https://localhost:8080/"
    },
    "id": "52gDiHu7owA_",
    "outputId": "e5dc5d9e-d04c-40ed-c14b-36adfdecc653"
   },
   "outputs": [
    {
     "name": "stdout",
     "output_type": "stream",
     "text": [
      "Move the disk 1 from ' S ' to ' D '\n",
      "Move the disk 2 from ' S ' to ' A '\n",
      "Move the disk 1 from ' D ' to ' A '\n",
      "Move the disk 3 from ' S ' to ' D '\n",
      "Move the disk 1 from ' A ' to ' S '\n",
      "Move the disk 2 from ' A ' to ' D '\n",
      "Move the disk 1 from ' S ' to ' D '\n",
      "Move the disk 4 from ' S ' to ' A '\n",
      "Move the disk 1 from ' D ' to ' A '\n",
      "Move the disk 2 from ' D ' to ' S '\n",
      "Move the disk 1 from ' A ' to ' S '\n",
      "Move the disk 3 from ' D ' to ' A '\n",
      "Move the disk 1 from ' S ' to ' D '\n",
      "Move the disk 2 from ' S ' to ' A '\n",
      "Move the disk 1 from ' D ' to ' A '\n",
      "Move the disk 5 from ' S ' to ' D '\n",
      "Move the disk 1 from ' A ' to ' S '\n",
      "Move the disk 2 from ' A ' to ' D '\n",
      "Move the disk 1 from ' S ' to ' D '\n",
      "Move the disk 3 from ' A ' to ' S '\n",
      "Move the disk 1 from ' D ' to ' A '\n",
      "Move the disk 2 from ' D ' to ' S '\n",
      "Move the disk 1 from ' A ' to ' S '\n",
      "Move the disk 4 from ' A ' to ' D '\n",
      "Move the disk 1 from ' S ' to ' D '\n",
      "Move the disk 2 from ' S ' to ' A '\n",
      "Move the disk 1 from ' D ' to ' A '\n",
      "Move the disk 3 from ' S ' to ' D '\n",
      "Move the disk 1 from ' A ' to ' S '\n",
      "Move the disk 2 from ' A ' to ' D '\n",
      "Move the disk 1 from ' S ' to ' D '\n"
     ]
    }
   ],
   "source": [
    "# Python3 program for iterative Tower of Hanoi\n",
    "import sys\n",
    "\n",
    "# A structure to represent a stack\n",
    "class Stack:\n",
    "\t# Constructor to set the data of\n",
    "\t# the newly created tree node\n",
    "\tdef __init__(self, capacity):\n",
    "\t\tself.capacity = capacity\n",
    "\t\tself.top = -1\n",
    "\t\tself.array = [0]*capacity\n",
    "\n",
    "# function to create a stack of given capacity.\n",
    "def createStack(capacity):\n",
    "\tstack = Stack(capacity)\n",
    "\treturn stack\n",
    "\n",
    "# Stack is full when top is equal to the last index\n",
    "def isFull(stack):\n",
    "\treturn (stack.top == (stack.capacity - 1))\n",
    "\n",
    "# Stack is empty when top is equal to -1\n",
    "def isEmpty(stack):\n",
    "\treturn (stack.top == -1)\n",
    "\n",
    "# Function to add an item to stack.\n",
    "# It increases top by 1\n",
    "def push(stack, item):\n",
    "\tif(isFull(stack)):\n",
    "\t\treturn\n",
    "\tstack.top+=1\n",
    "\tstack.array[stack.top] = item\n",
    "\n",
    "# Function to remove an item from stack.\n",
    "# It decreases top by 1\n",
    "def Pop(stack):\n",
    "\tif(isEmpty(stack)):\n",
    "\t\treturn -sys.maxsize\n",
    "\tTop = stack.top\n",
    "\tstack.top-=1\n",
    "\treturn stack.array[Top]\n",
    "\n",
    "# Function to implement legal\n",
    "# movement between two poles\n",
    "def moveDisksBetweenTwoPoles(src, dest, s, d):\n",
    "\tpole1TopDisk = Pop(src)\n",
    "\tpole2TopDisk = Pop(dest)\n",
    "\n",
    "\t# When pole 1 is empty\n",
    "\tif (pole1TopDisk == -sys.maxsize):\n",
    "\t\tpush(src, pole2TopDisk)\n",
    "\t\tmoveDisk(d, s, pole2TopDisk)\n",
    "\t\n",
    "\t# When pole2 pole is empty\n",
    "\telif (pole2TopDisk == -sys.maxsize):\n",
    "\t\tpush(dest, pole1TopDisk)\n",
    "\t\tmoveDisk(s, d, pole1TopDisk)\n",
    "\t\n",
    "\t# When top disk of pole1 > top disk of pole2\n",
    "\telif (pole1TopDisk > pole2TopDisk):\n",
    "\t\tpush(src, pole1TopDisk)\n",
    "\t\tpush(src, pole2TopDisk)\n",
    "\t\tmoveDisk(d, s, pole2TopDisk)\n",
    "\t\n",
    "\t# When top disk of pole1 < top disk of pole2\n",
    "\telse:\n",
    "\t\tpush(dest, pole2TopDisk)\n",
    "\t\tpush(dest, pole1TopDisk)\n",
    "\t\tmoveDisk(s, d, pole1TopDisk)\n",
    "\n",
    "# Function to show the movement of disks\n",
    "def moveDisk(fromPeg, toPeg, disk):\n",
    "\tprint(\"Move the disk\", disk, \"from '\", fromPeg, \"' to '\", toPeg, \"'\")\n",
    "\n",
    "# Function to implement TOH puzzle\n",
    "def tohIterative(num_of_disks, src, aux, dest):\n",
    "\ts, d, a = 'S', 'D', 'A'\n",
    "\n",
    "\t# If number of disks is even, then interchange\n",
    "\t# destination pole and auxiliary pole\n",
    "\tif (num_of_disks % 2 == 0):\n",
    "\t\ttemp = d\n",
    "\t\td = a\n",
    "\t\ta = temp\n",
    "\ttotal_num_of_moves = int(pow(2, num_of_disks) - 1)\n",
    "\n",
    "\t# Larger disks will be pushed first\n",
    "\tfor i in range(num_of_disks, 0, -1):\n",
    "\t\tpush(src, i)\n",
    "\n",
    "\tfor i in range(1, total_num_of_moves + 1):\n",
    "\t\tif (i % 3 == 1):\n",
    "\t\t\tmoveDisksBetweenTwoPoles(src, dest, s, d)\n",
    "\n",
    "\t\telif (i % 3 == 2):\n",
    "\t\t\tmoveDisksBetweenTwoPoles(src, aux, s, a)\n",
    "\n",
    "\t\telif (i % 3 == 0):\n",
    "\t\t\tmoveDisksBetweenTwoPoles(aux, dest, a, d)\n",
    "\n",
    "# Input: number of disks\n",
    "num_of_disks = 5\n",
    "\n",
    "# Create three stacks of size 'num_of_disks'\n",
    "# to hold the disks\n",
    "src = createStack(num_of_disks)\n",
    "dest = createStack(num_of_disks)\n",
    "aux = createStack(num_of_disks)\n",
    "\n",
    "tohIterative(num_of_disks, src, aux, dest)\n",
    "\n",
    "# This code is contributed by divyeshrabadiya07.\n"
   ]
  },
  {
   "cell_type": "code",
   "execution_count": null,
   "metadata": {
    "id": "hNFwWoHvowEW"
   },
   "outputs": [],
   "source": []
  }
 ],
 "metadata": {
  "colab": {
   "collapsed_sections": [],
   "name": "Write a Program to Implement Tower of Hanoi using Python..ipynb",
   "provenance": []
  },
  "kernelspec": {
   "display_name": "Python 3 (ipykernel)",
   "language": "python",
   "name": "python3"
  },
  "language_info": {
   "codemirror_mode": {
    "name": "ipython",
    "version": 3
   },
   "file_extension": ".py",
   "mimetype": "text/x-python",
   "name": "python",
   "nbconvert_exporter": "python",
   "pygments_lexer": "ipython3",
   "version": "3.9.7"
  }
 },
 "nbformat": 4,
 "nbformat_minor": 1
}
